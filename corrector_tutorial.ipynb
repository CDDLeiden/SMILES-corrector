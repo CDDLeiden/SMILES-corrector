{
 "cells": [
  {
   "cell_type": "markdown",
   "metadata": {},
   "source": [
    "# How to use the SMILES corrector. \n",
    "This version demonstrates how to create a training set and train & apply the model"
   ]
  },
  {
   "cell_type": "markdown",
   "metadata": {},
   "source": [
    "# Setup"
   ]
  },
  {
   "cell_type": "code",
   "execution_count": null,
   "metadata": {},
   "outputs": [],
   "source": [
    "import torch\n",
    "import os\n",
    "\n",
    "import pandas as pd\n",
    "import numpy as np\n",
    "\n",
    "import random\n",
    "\n",
    "from src.preprocess import standardize, train_valid_test_split, remove_long_sequences\n",
    "from src.invalidSMILES import get_invalid_smiles\n",
    "from src.modelling import initialize_model, train_model, correct_SMILES\n",
    "\n",
    "# set random seed, used for error generation & initiation transformer\n",
    "SEED = 42\n",
    "random.seed(SEED)\n",
    "\n",
    "# for tutorial use shorter version of dataset\n",
    "short = True"
   ]
  },
  {
   "cell_type": "markdown",
   "metadata": {},
   "source": [
    "# Create standardized dataset"
   ]
  },
  {
   "cell_type": "code",
   "execution_count": null,
   "metadata": {},
   "outputs": [],
   "source": [
    "# directories & file for basing training & evaluation datasets on\n",
    "folder_raw = \"RawData/\"\n",
    "folder_out = \"Data/\"\n",
    "data_source = \"PAPYRUS.csv\"\n",
    "\n",
    "# indicate maximum length of sequences\n",
    "threshold = 200\n",
    "\n",
    "# create standardized dataset if not already present\n",
    "if os.path.exists(\n",
    "        f\"{folder_out}{data_source.split('.')[0]}_{threshold}_standardized.csv\"\n",
    "):\n",
    "    # Load dataset of standardized SMILES & of fragments\n",
    "    df = pd.read_csv(\n",
    "        f\"{folder_out}{data_source.split('.')[0]}_{threshold}_standardized.csv\",\n",
    "        usecols=[\"STD_SMILES\"],\n",
    "        header=0,\n",
    "        index_col=None,\n",
    "    )\n",
    "\n",
    "else:\n",
    "    # standardize\n",
    "    df = standardize(folder_raw, data_source, short = short)\n",
    "    # remove long sequences\n",
    "    df = remove_long_sequences(df,\n",
    "                                subset=\"STD_SMILES\",\n",
    "                                threshold=threshold)\n",
    "    # save standardized dataframe\n",
    "    df.to_csv(\n",
    "        f\"Data/{data_source.split('.')[0]}_{threshold}_standardized.csv\",\n",
    "        index=False)\n",
    "    df = df['STD_SMILES']\n",
    "\n",
    "data_source = f\"{data_source.split('.')[0]}_{threshold}\""
   ]
  },
  {
   "cell_type": "markdown",
   "metadata": {},
   "source": [
    "\n",
    "# Create synthetic invalid SMILES"
   ]
  },
  {
   "cell_type": "code",
   "execution_count": null,
   "metadata": {},
   "outputs": [],
   "source": [
    "# indicate types of errors to create model for\n",
    "invalid_type = \"multiple\"\n",
    "# how many error to introduce (for )\n",
    "num_errors = 12\n",
    "\n",
    "# create synthetic invalid SMILES if not already present\n",
    "if os.path.exists(\n",
    "        f\"{folder_out}errors/{data_source}_{invalid_type}_{num_errors}_errors.csv\"\n",
    "):\n",
    "    # Load dataset of invalid and valid SMILES\n",
    "    df = pd.read_csv(\n",
    "        f\"{folder_out}errors/{data_source}_{invalid_type}_{num_errors}_errors.csv\",\n",
    "        usecols=[\"STD_SMILES\", \"ERROR\"],\n",
    "        header=0,\n",
    "        index_col=None,\n",
    "    )\n",
    "\n",
    "else:\n",
    "    df_frag = pd.read_csv(f\"{folder_raw}gbd_8.csv\",\n",
    "                            names=[\"FRAGMENT\"],\n",
    "                            usecols=[0],\n",
    "                            header=0).dropna()\n",
    "    # takes few minutes when using ray on ~24 CPUs\n",
    "    print(df_frag)\n",
    "    df = get_invalid_smiles(df, df_frag, SEED, invalid_type, num_errors)\n",
    "\n",
    "    # remove long sequences\n",
    "    df = remove_long_sequences(df,\n",
    "                                subset=\"STD_SMILES\",\n",
    "                                threshold=threshold)\n",
    "    df = remove_long_sequences(df, subset=\"ERROR\", threshold=threshold)\n",
    "\n",
    "    if not os.path.exists(f\"{folder_out}errors\"):\n",
    "        os.makedirs(f\"{folder_out}errors\")\n",
    "\n",
    "    df.to_csv(\n",
    "        f\"{folder_out}errors/{data_source}_{invalid_type}_{num_errors}_errors.csv\",\n",
    "        index=False)\n",
    "    print(df)\n"
   ]
  },
  {
   "cell_type": "markdown",
   "metadata": {},
   "source": [
    "# Split dataset into train & test"
   ]
  },
  {
   "cell_type": "code",
   "execution_count": null,
   "metadata": {},
   "outputs": [],
   "source": [
    "if not os.path.exists(\n",
    "        f\"{folder_out}errors/split/{data_source}_{invalid_type}_{num_errors}_errors_train.csv\"\n",
    "):\n",
    "    # for splitting the data and turning it into a torchtext dataset\n",
    "    train, valid, _ = train_valid_test_split(df, SEED=SEED)\n",
    "    if not os.path.exists(f\"{folder_out}errors/split\"):\n",
    "        os.makedirs(f\"{folder_out}errors/split\")\n",
    "    train.to_csv(\n",
    "        f\"{folder_out}errors/split/{data_source}_{invalid_type}_{num_errors}_errors_train.csv\",\n",
    "        index=False)\n",
    "    valid.to_csv(\n",
    "        f\"{folder_out}errors/split/{data_source}_{invalid_type}_{num_errors}_errors_dev.csv\",\n",
    "        index=False)"
   ]
  },
  {
   "cell_type": "markdown",
   "metadata": {},
   "source": [
    "# Initialize SMILES corrector model"
   ]
  },
  {
   "cell_type": "code",
   "execution_count": null,
   "metadata": {},
   "outputs": [],
   "source": [
    "# source of de novo generated errors\n",
    "error_source = 'Data/papyrus_rnn_XS.csv'\n",
    "\n",
    "# gpu to use\n",
    "gpu = '0'\n",
    "\n",
    "torch.manual_seed(SEED)\n",
    "torch.backends.cudnn.deterministic = True\n",
    "\n",
    "# define this in test.py\n",
    "os.environ[\"CUDA_VISIBLE_DEVICES\"] = str(gpu)\n",
    "print(torch.cuda.current_device())\n",
    "\n",
    "#device = torch.device('cpu')\n",
    "device = torch.device(\"cuda\" if torch.cuda.is_available() else \"cpu\")\n",
    "\n",
    "model, out, SRC = initialize_model(\n",
    "    folder_out,\n",
    "    data_source,\n",
    "    error_source,\n",
    "    device,\n",
    "    threshold=threshold,\n",
    "    epochs=20,\n",
    "    layers=3,\n",
    "    batch_size=16,\n",
    "    invalid_type=invalid_type,\n",
    "    num_errors=num_errors,\n",
    ")"
   ]
  },
  {
   "cell_type": "markdown",
   "metadata": {},
   "source": [
    "# Use SMILES corrector\n",
    "Can train the SMILES corrector or just use it for fixing "
   ]
  },
  {
   "cell_type": "code",
   "execution_count": null,
   "metadata": {},
   "outputs": [],
   "source": [
    "# train model\n",
    "model = train_model(model, out, False)"
   ]
  },
  {
   "cell_type": "code",
   "execution_count": null,
   "metadata": {},
   "outputs": [],
   "source": [
    "# fix errors\n",
    "error_source = 'Data/papyrus_rnn_XS.csv'\n",
    "\n",
    "print(f\"Fixing {error_source.split('/')[-1].split('.')[0]}\")\n",
    "\n",
    "valids, df_output = correct_SMILES(model, out, error_source, device,\n",
    "                                    SRC)\n",
    "df_output.to_csv(\n",
    "    f\"generated/{out.split('/')[-1]}_{error_source.split('/')[-1].split('.')[0]}_fixed.csv\",\n",
    "    index=False)"
   ]
  }
 ],
 "metadata": {
  "kernelspec": {
   "display_name": "Python 3.9.13 ('corrector')",
   "language": "python",
   "name": "python3"
  },
  "language_info": {
   "codemirror_mode": {
    "name": "ipython",
    "version": 3
   },
   "file_extension": ".py",
   "mimetype": "text/x-python",
   "name": "python",
   "nbconvert_exporter": "python",
   "pygments_lexer": "ipython3",
   "version": "3.9.13"
  },
  "orig_nbformat": 4,
  "vscode": {
   "interpreter": {
    "hash": "5421a493f0f16b6d6ccec4130ede52028b9e0f32f9f3afb505f5e9b2b0aef8f6"
   }
  }
 },
 "nbformat": 4,
 "nbformat_minor": 2
}
