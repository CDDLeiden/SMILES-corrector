{
 "cells": [
  {
   "cell_type": "markdown",
   "metadata": {},
   "source": [
    "# Use SMILES corrector for exploration\n",
    "\n",
    "This version demonstrates how to create analogues for desired molecule. It shows how to introduce errors into the molecule, initialize the SMILES corrector & fix the errors"
   ]
  },
  {
   "cell_type": "markdown",
   "metadata": {},
   "source": [
    "# Setup"
   ]
  },
  {
   "cell_type": "code",
   "execution_count": null,
   "metadata": {},
   "outputs": [],
   "source": [
    "import torch\n",
    "import os\n",
    "\n",
    "import pandas as pd\n",
    "import numpy as np\n",
    "\n",
    "import random\n",
    "\n",
    "import pickle\n",
    "\n",
    "from src.invalidSMILES import get_invalid_smiles\n",
    "from src.preprocess import standardization_pipeline, remove_smiles_duplicates\n",
    "from src.modelling import initialize_model, correct_SMILES\n",
    "\n",
    "# set random seed, used for error generation & initiation transformer\n",
    "SEED = 42\n",
    "random.seed(SEED)"
   ]
  },
  {
   "cell_type": "markdown",
   "metadata": {},
   "source": [
    "# Introduce errors into molecule or set of molecules"
   ]
  },
  {
   "cell_type": "code",
   "execution_count": null,
   "metadata": {},
   "outputs": [],
   "source": [
    "# file name\n",
    "folder_out = \"Data/\"\n",
    "name = 'selective_ki'\n",
    "# number of errorneous sequences to generate per molecule\n",
    "errors_per_molecule = 10\n",
    "# where to save the errors\n",
    "if not os.path.exists(f\"Data/explore\"):\n",
    "    os.makedirs(f\"Data/explore\")\n",
    "error_source = \"Data/explore/%s_with_%s_errors_index.csv\" % (\n",
    "    name, errors_per_molecule)"
   ]
  },
  {
   "cell_type": "code",
   "execution_count": null,
   "metadata": {},
   "outputs": [],
   "source": [
    "# standardize SMILES\n",
    "standardize = False\n",
    "if standardize:\n",
    "    df = pd.read_csv('%s%s.csv' % (folder_out, name), usecols=['SMILES']).dropna()\n",
    "    df[\"STD_SMILES\"] = df.apply(\n",
    "        lambda row: standardization_pipeline(row[\"SMILES\"]),\n",
    "        axis=1).dropna()\n",
    "    df = df.drop(columns=['SMILES'])\n",
    "    df.to_csv('%s%s.csv' % (folder_out, name), index=None)\n",
    "else:\n",
    "    df = pd.read_csv('%s%s.csv' % (folder_out, name),\n",
    "                        usecols=['STD_SMILES']).dropna()"
   ]
  },
  {
   "cell_type": "code",
   "execution_count": null,
   "metadata": {},
   "outputs": [],
   "source": [
    "folder_raw = \"RawData/\"\n",
    "\n",
    "df_frag = pd.read_csv(f\"{folder_raw}gbd_8.csv\",\n",
    "                        names=[\"FRAGMENT\"],\n",
    "                        usecols=[0],\n",
    "                        header=0).dropna()\n",
    "\n",
    "# duplicate SMILES to create multiple errors per molecule\n",
    "df = pd.concat([df] * (errors_per_molecule), ignore_index=False)\n",
    "index_list = list(df.index.values)\n",
    "smiles = list(df['STD_SMILES'].values)\n",
    "df = get_invalid_smiles(df,\n",
    "                        df_frag,\n",
    "                        SEED,\n",
    "                        invalid_type=\"all\",\n",
    "                        num_errors=1)\n",
    "df = df.drop(columns=['FRAGMENT']).reset_index(drop=True)\n",
    "df = df.rename(columns={\"ERROR\": \"SMILES\"})\n",
    "df['SMILES_TARGET'] = df[\"SMILES\"]\n",
    "df.index = index_list\n",
    "df['ORIGINAL_SMILES'] = smiles\n",
    "# drop duplicate erroneous SMILES\n",
    "df = df.drop_duplicates(subset=['SMILES'])\n",
    "df.to_csv(error_source)"
   ]
  },
  {
   "cell_type": "markdown",
   "metadata": {},
   "source": [
    "# Initialize model "
   ]
  },
  {
   "cell_type": "code",
   "execution_count": null,
   "metadata": {},
   "outputs": [],
   "source": [
    "# model parameters\n",
    "folder_out = \"Data/\"\n",
    "invalid_type = 'multiple'\n",
    "num_errors = 12\n",
    "threshold = 200\n",
    "data_source = f\"PAPYRUS_{threshold}\"\n",
    "gpu = '1'\n",
    "\n",
    "# define this in test.py\n",
    "os.environ[\"CUDA_VISIBLE_DEVICES\"] = gpu\n",
    "initialize_source = 'Data/papyrus_rnn_S.csv'\n",
    "\n",
    "#device = torch.device('cpu')\n",
    "device = torch.device(\"cuda\" if torch.cuda.is_available() else \"cpu\")\n",
    "\n",
    "model, out, SRC = initialize_model(folder_out,\n",
    "                                    data_source,\n",
    "                                    error_source=initialize_source,\n",
    "                                    device=device,\n",
    "                                    threshold=threshold,\n",
    "                                    epochs=30,\n",
    "                                    layers=3,\n",
    "                                    batch_size=16,\n",
    "                                    invalid_type=invalid_type,\n",
    "                                    num_errors=num_errors)\n",
    "print(out)"
   ]
  },
  {
   "cell_type": "markdown",
   "metadata": {},
   "source": [
    "# Correct SMILES"
   ]
  },
  {
   "cell_type": "code",
   "execution_count": null,
   "metadata": {},
   "outputs": [],
   "source": [
    "valids, df_output = correct_SMILES(model, out, error_source, device,\n",
    "                                    SRC)\n",
    "df_output.to_csv(\n",
    "    f\"Data/explore/{error_source.split('/')[2].split('.')[0]}_fixed.csv\",\n",
    "    index=False)\n",
    "\n",
    "# keep unique sequences\n",
    "df_output = df_output.dropna(subset = [\"CORRECT\"])\n",
    "df_output[\"STD_SMILES\"] = df_output.apply(\n",
    "            lambda row: standardization_pipeline(row[\"CORRECT\"]), axis=1\n",
    "        ).dropna()\n",
    "df_output = remove_smiles_duplicates(df_output, subset=\"STD_SMILES\")\n",
    "\n",
    "df_output.to_csv(\n",
    "    f\"Data/explore/{error_source.split('/')[2].split('.')[0]}_fixed_unique.csv\",\n",
    "    index=False)"
   ]
  }
 ],
 "metadata": {
  "kernelspec": {
   "display_name": "Python 3.9.13 ('corrector')",
   "language": "python",
   "name": "python3"
  },
  "language_info": {
   "codemirror_mode": {
    "name": "ipython",
    "version": 3
   },
   "file_extension": ".py",
   "mimetype": "text/x-python",
   "name": "python",
   "nbconvert_exporter": "python",
   "pygments_lexer": "ipython3",
   "version": "3.9.13"
  },
  "orig_nbformat": 4,
  "vscode": {
   "interpreter": {
    "hash": "5421a493f0f16b6d6ccec4130ede52028b9e0f32f9f3afb505f5e9b2b0aef8f6"
   }
  }
 },
 "nbformat": 4,
 "nbformat_minor": 2
}
